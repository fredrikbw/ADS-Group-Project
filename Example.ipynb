{
 "cells": [
  {
   "cell_type": "code",
   "execution_count": 61,
   "metadata": {},
   "outputs": [],
   "source": [
    "import pandas as pd\n",
    "import seaborn as sns\n",
    "import datetime as dt\n",
    "import folium\n",
    "import matplotlib.pyplot as plt\n",
    "from folium.plugins import HeatMap, HeatMapWithTime\n",
    "import numpy as np\n",
    "from collections import defaultdict, OrderedDict"
   ]
  },
  {
   "cell_type": "code",
   "execution_count": 3,
   "metadata": {},
   "outputs": [],
   "source": [
    "df = pd.read_csv('NYPD_Shootings.csv', index_col=0, parse_dates=['OCCUR_DATE'])"
   ]
  },
  {
   "cell_type": "code",
   "execution_count": 4,
   "metadata": {},
   "outputs": [
    {
     "data": {
      "text/html": "<div>\n<style scoped>\n    .dataframe tbody tr th:only-of-type {\n        vertical-align: middle;\n    }\n\n    .dataframe tbody tr th {\n        vertical-align: top;\n    }\n\n    .dataframe thead th {\n        text-align: right;\n    }\n</style>\n<table border=\"1\" class=\"dataframe\">\n  <thead>\n    <tr style=\"text-align: right;\">\n      <th></th>\n      <th>OCCUR_DATE</th>\n      <th>OCCUR_TIME</th>\n      <th>BORO</th>\n      <th>PRECINCT</th>\n      <th>JURISDICTION_CODE</th>\n      <th>LOCATION_DESC</th>\n      <th>STATISTICAL_MURDER_FLAG</th>\n      <th>PERP_AGE_GROUP</th>\n      <th>PERP_SEX</th>\n      <th>PERP_RACE</th>\n      <th>VIC_AGE_GROUP</th>\n      <th>VIC_SEX</th>\n      <th>VIC_RACE</th>\n      <th>X_COORD_CD</th>\n      <th>Y_COORD_CD</th>\n      <th>Latitude</th>\n      <th>Longitude</th>\n      <th>Lon_Lat</th>\n    </tr>\n    <tr>\n      <th>INCIDENT_KEY</th>\n      <th></th>\n      <th></th>\n      <th></th>\n      <th></th>\n      <th></th>\n      <th></th>\n      <th></th>\n      <th></th>\n      <th></th>\n      <th></th>\n      <th></th>\n      <th></th>\n      <th></th>\n      <th></th>\n      <th></th>\n      <th></th>\n      <th></th>\n      <th></th>\n    </tr>\n  </thead>\n  <tbody>\n    <tr>\n      <th>9953252</th>\n      <td>2006-01-01</td>\n      <td>2:22:00</td>\n      <td>MANHATTAN</td>\n      <td>28</td>\n      <td>0.0</td>\n      <td>NONE</td>\n      <td>True</td>\n      <td>25-44</td>\n      <td>M</td>\n      <td>BLACK</td>\n      <td>25-44</td>\n      <td>M</td>\n      <td>BLACK</td>\n      <td>998816</td>\n      <td>233545</td>\n      <td>40.807699</td>\n      <td>-73.947385</td>\n      <td>POINT (-73.94738485799998 40.807699163000045)</td>\n    </tr>\n    <tr>\n      <th>9953246</th>\n      <td>2006-01-01</td>\n      <td>5:51:00</td>\n      <td>BRONX</td>\n      <td>44</td>\n      <td>0.0</td>\n      <td>NONE</td>\n      <td>False</td>\n      <td>25-44</td>\n      <td>M</td>\n      <td>WHITE HISPANIC</td>\n      <td>18-24</td>\n      <td>M</td>\n      <td>WHITE HISPANIC</td>\n      <td>1007418</td>\n      <td>243859</td>\n      <td>40.835990</td>\n      <td>-73.916276</td>\n      <td>POINT (-73.91627635999998 40.83598980000005)</td>\n    </tr>\n    <tr>\n      <th>139716503</th>\n      <td>2006-01-01</td>\n      <td>12:30:00</td>\n      <td>BROOKLYN</td>\n      <td>77</td>\n      <td>0.0</td>\n      <td>PVT HOUSE</td>\n      <td>True</td>\n      <td>NaN</td>\n      <td>NaN</td>\n      <td>NaN</td>\n      <td>25-44</td>\n      <td>M</td>\n      <td>BLACK</td>\n      <td>996442</td>\n      <td>184160</td>\n      <td>40.672153</td>\n      <td>-73.956050</td>\n      <td>POINT (-73.95604992899997 40.67215322100003)</td>\n    </tr>\n    <tr>\n      <th>9953245</th>\n      <td>2006-01-01</td>\n      <td>2:00:00</td>\n      <td>BRONX</td>\n      <td>48</td>\n      <td>0.0</td>\n      <td>NONE</td>\n      <td>False</td>\n      <td>18-24</td>\n      <td>M</td>\n      <td>BLACK</td>\n      <td>&lt;18</td>\n      <td>M</td>\n      <td>BLACK</td>\n      <td>1013405</td>\n      <td>251801</td>\n      <td>40.857771</td>\n      <td>-73.894606</td>\n      <td>POINT (-73.89460587699995 40.85777050600007)</td>\n    </tr>\n    <tr>\n      <th>9953247</th>\n      <td>2006-01-01</td>\n      <td>3:30:00</td>\n      <td>BROOKLYN</td>\n      <td>67</td>\n      <td>0.0</td>\n      <td>NaN</td>\n      <td>False</td>\n      <td>UNKNOWN</td>\n      <td>U</td>\n      <td>UNKNOWN</td>\n      <td>18-24</td>\n      <td>M</td>\n      <td>BLACK</td>\n      <td>999316</td>\n      <td>176460</td>\n      <td>40.651014</td>\n      <td>-73.945707</td>\n      <td>POINT (-73.94570651699998 40.651013998000046)</td>\n    </tr>\n  </tbody>\n</table>\n</div>",
      "text/plain": "             OCCUR_DATE OCCUR_TIME       BORO  PRECINCT  JURISDICTION_CODE  \\\nINCIDENT_KEY                                                                 \n9953252      2006-01-01    2:22:00  MANHATTAN        28                0.0   \n9953246      2006-01-01    5:51:00      BRONX        44                0.0   \n139716503    2006-01-01   12:30:00   BROOKLYN        77                0.0   \n9953245      2006-01-01    2:00:00      BRONX        48                0.0   \n9953247      2006-01-01    3:30:00   BROOKLYN        67                0.0   \n\n             LOCATION_DESC  STATISTICAL_MURDER_FLAG PERP_AGE_GROUP PERP_SEX  \\\nINCIDENT_KEY                                                                  \n9953252               NONE                     True          25-44        M   \n9953246               NONE                    False          25-44        M   \n139716503        PVT HOUSE                     True            NaN      NaN   \n9953245               NONE                    False          18-24        M   \n9953247                NaN                    False        UNKNOWN        U   \n\n                   PERP_RACE VIC_AGE_GROUP VIC_SEX        VIC_RACE X_COORD_CD  \\\nINCIDENT_KEY                                                                    \n9953252                BLACK         25-44       M           BLACK     998816   \n9953246       WHITE HISPANIC         18-24       M  WHITE HISPANIC    1007418   \n139716503                NaN         25-44       M           BLACK     996442   \n9953245                BLACK           <18       M           BLACK    1013405   \n9953247              UNKNOWN         18-24       M           BLACK     999316   \n\n             Y_COORD_CD   Latitude  Longitude  \\\nINCIDENT_KEY                                    \n9953252          233545  40.807699 -73.947385   \n9953246          243859  40.835990 -73.916276   \n139716503        184160  40.672153 -73.956050   \n9953245          251801  40.857771 -73.894606   \n9953247          176460  40.651014 -73.945707   \n\n                                                    Lon_Lat  \nINCIDENT_KEY                                                 \n9953252       POINT (-73.94738485799998 40.807699163000045)  \n9953246        POINT (-73.91627635999998 40.83598980000005)  \n139716503      POINT (-73.95604992899997 40.67215322100003)  \n9953245        POINT (-73.89460587699995 40.85777050600007)  \n9953247       POINT (-73.94570651699998 40.651013998000046)  "
     },
     "execution_count": 4,
     "metadata": {},
     "output_type": "execute_result"
    }
   ],
   "source": [
    "df.sort_values('OCCUR_DATE').head(5)"
   ]
  },
  {
   "cell_type": "code",
   "execution_count": 36,
   "metadata": {},
   "outputs": [],
   "source": [
    "df['seconds'] = pd.to_timedelta(df['OCCUR_TIME']).dt.total_seconds()\n",
    "df['timestamp'] = df['OCCUR_DATE'] + pd.to_timedelta(df['OCCUR_TIME'])"
   ]
  },
  {
   "cell_type": "code",
   "execution_count": 38,
   "metadata": {},
   "outputs": [
    {
     "data": {
      "text/html": "<div>\n<style scoped>\n    .dataframe tbody tr th:only-of-type {\n        vertical-align: middle;\n    }\n\n    .dataframe tbody tr th {\n        vertical-align: top;\n    }\n\n    .dataframe thead th {\n        text-align: right;\n    }\n</style>\n<table border=\"1\" class=\"dataframe\">\n  <thead>\n    <tr style=\"text-align: right;\">\n      <th></th>\n      <th>OCCUR_DATE</th>\n      <th>OCCUR_TIME</th>\n      <th>BORO</th>\n      <th>PRECINCT</th>\n      <th>JURISDICTION_CODE</th>\n      <th>LOCATION_DESC</th>\n      <th>STATISTICAL_MURDER_FLAG</th>\n      <th>PERP_AGE_GROUP</th>\n      <th>PERP_SEX</th>\n      <th>PERP_RACE</th>\n      <th>...</th>\n      <th>VIC_SEX</th>\n      <th>VIC_RACE</th>\n      <th>X_COORD_CD</th>\n      <th>Y_COORD_CD</th>\n      <th>Latitude</th>\n      <th>Longitude</th>\n      <th>Lon_Lat</th>\n      <th>seconds</th>\n      <th>timestamp</th>\n      <th>hour</th>\n    </tr>\n    <tr>\n      <th>INCIDENT_KEY</th>\n      <th></th>\n      <th></th>\n      <th></th>\n      <th></th>\n      <th></th>\n      <th></th>\n      <th></th>\n      <th></th>\n      <th></th>\n      <th></th>\n      <th></th>\n      <th></th>\n      <th></th>\n      <th></th>\n      <th></th>\n      <th></th>\n      <th></th>\n      <th></th>\n      <th></th>\n      <th></th>\n      <th></th>\n    </tr>\n  </thead>\n  <tbody>\n    <tr>\n      <th>201575314</th>\n      <td>2019-08-23</td>\n      <td>22:10:00</td>\n      <td>QUEENS</td>\n      <td>103</td>\n      <td>0.0</td>\n      <td>NaN</td>\n      <td>False</td>\n      <td>NaN</td>\n      <td>NaN</td>\n      <td>NaN</td>\n      <td>...</td>\n      <td>M</td>\n      <td>BLACK</td>\n      <td>1037451</td>\n      <td>193561</td>\n      <td>40.697805</td>\n      <td>-73.808141</td>\n      <td>POINT (-73.80814071699996 40.697805308000056)</td>\n      <td>79800.0</td>\n      <td>2019-08-23 22:10:00</td>\n      <td>22</td>\n    </tr>\n    <tr>\n      <th>205748546</th>\n      <td>2019-11-27</td>\n      <td>15:54:00</td>\n      <td>BRONX</td>\n      <td>40</td>\n      <td>0.0</td>\n      <td>NaN</td>\n      <td>False</td>\n      <td>&lt;18</td>\n      <td>M</td>\n      <td>BLACK</td>\n      <td>...</td>\n      <td>F</td>\n      <td>BLACK</td>\n      <td>1006789</td>\n      <td>237559</td>\n      <td>40.818700</td>\n      <td>-73.918571</td>\n      <td>POINT (-73.91857061799993 40.81869973000005)</td>\n      <td>57240.0</td>\n      <td>2019-11-27 15:54:00</td>\n      <td>15</td>\n    </tr>\n    <tr>\n      <th>193118596</th>\n      <td>2019-02-02</td>\n      <td>19:40:00</td>\n      <td>MANHATTAN</td>\n      <td>23</td>\n      <td>0.0</td>\n      <td>NaN</td>\n      <td>False</td>\n      <td>18-24</td>\n      <td>M</td>\n      <td>WHITE HISPANIC</td>\n      <td>...</td>\n      <td>M</td>\n      <td>BLACK HISPANIC</td>\n      <td>999347</td>\n      <td>227795</td>\n      <td>40.791916</td>\n      <td>-73.945480</td>\n      <td>POINT (-73.94547965999999 40.791916091000076)</td>\n      <td>70800.0</td>\n      <td>2019-02-02 19:40:00</td>\n      <td>19</td>\n    </tr>\n    <tr>\n      <th>204192600</th>\n      <td>2019-10-24</td>\n      <td>00:52:00</td>\n      <td>STATEN ISLAND</td>\n      <td>121</td>\n      <td>0.0</td>\n      <td>PVT HOUSE</td>\n      <td>True</td>\n      <td>25-44</td>\n      <td>M</td>\n      <td>BLACK</td>\n      <td>...</td>\n      <td>F</td>\n      <td>BLACK</td>\n      <td>938149</td>\n      <td>171781</td>\n      <td>40.638064</td>\n      <td>-74.166108</td>\n      <td>POINT (-74.16610830199996 40.63806398200006)</td>\n      <td>3120.0</td>\n      <td>2019-10-24 00:52:00</td>\n      <td>0</td>\n    </tr>\n    <tr>\n      <th>201483468</th>\n      <td>2019-08-22</td>\n      <td>18:03:00</td>\n      <td>BRONX</td>\n      <td>46</td>\n      <td>0.0</td>\n      <td>NaN</td>\n      <td>False</td>\n      <td>25-44</td>\n      <td>M</td>\n      <td>BLACK HISPANIC</td>\n      <td>...</td>\n      <td>M</td>\n      <td>BLACK</td>\n      <td>1008224</td>\n      <td>250621</td>\n      <td>40.854547</td>\n      <td>-73.913339</td>\n      <td>POINT (-73.91333944399999 40.85454734900003)</td>\n      <td>64980.0</td>\n      <td>2019-08-22 18:03:00</td>\n      <td>18</td>\n    </tr>\n    <tr>\n      <th>...</th>\n      <td>...</td>\n      <td>...</td>\n      <td>...</td>\n      <td>...</td>\n      <td>...</td>\n      <td>...</td>\n      <td>...</td>\n      <td>...</td>\n      <td>...</td>\n      <td>...</td>\n      <td>...</td>\n      <td>...</td>\n      <td>...</td>\n      <td>...</td>\n      <td>...</td>\n      <td>...</td>\n      <td>...</td>\n      <td>...</td>\n      <td>...</td>\n      <td>...</td>\n      <td>...</td>\n    </tr>\n    <tr>\n      <th>216936948</th>\n      <td>2020-08-21</td>\n      <td>02:10:00</td>\n      <td>BRONX</td>\n      <td>48</td>\n      <td>0.0</td>\n      <td>MULTI DWELL - APT BUILD</td>\n      <td>True</td>\n      <td>NaN</td>\n      <td>NaN</td>\n      <td>NaN</td>\n      <td>...</td>\n      <td>M</td>\n      <td>BLACK HISPANIC</td>\n      <td>1007277</td>\n      <td>187698</td>\n      <td>40.681843</td>\n      <td>-73.916978</td>\n      <td>POINT (-73.91697825799997 40.681842679000056)</td>\n      <td>7800.0</td>\n      <td>2020-08-21 02:10:00</td>\n      <td>2</td>\n    </tr>\n    <tr>\n      <th>214926175</th>\n      <td>2020-07-03</td>\n      <td>23:49:00</td>\n      <td>QUEENS</td>\n      <td>102</td>\n      <td>0.0</td>\n      <td>HOTEL/MOTEL</td>\n      <td>False</td>\n      <td>&lt;18</td>\n      <td>M</td>\n      <td>BLACK</td>\n      <td>...</td>\n      <td>M</td>\n      <td>BLACK</td>\n      <td>1005993</td>\n      <td>241333</td>\n      <td>40.829060</td>\n      <td>-73.921434</td>\n      <td>POINT (-73.92143424399995 40.82906028200006)</td>\n      <td>85740.0</td>\n      <td>2020-07-03 23:49:00</td>\n      <td>23</td>\n    </tr>\n    <tr>\n      <th>220870730</th>\n      <td>2020-11-21</td>\n      <td>08:05:00</td>\n      <td>BROOKLYN</td>\n      <td>60</td>\n      <td>0.0</td>\n      <td>NaN</td>\n      <td>True</td>\n      <td>NaN</td>\n      <td>NaN</td>\n      <td>NaN</td>\n      <td>...</td>\n      <td>M</td>\n      <td>WHITE</td>\n      <td>1046405</td>\n      <td>187113</td>\n      <td>40.680049</td>\n      <td>-73.775909</td>\n      <td>POINT (-73.77590919399995 40.680048726000045)</td>\n      <td>29100.0</td>\n      <td>2020-11-21 08:05:00</td>\n      <td>8</td>\n    </tr>\n    <tr>\n      <th>208187330</th>\n      <td>2020-01-18</td>\n      <td>01:00:00</td>\n      <td>BRONX</td>\n      <td>42</td>\n      <td>2.0</td>\n      <td>MULTI DWELL - PUBLIC HOUS</td>\n      <td>False</td>\n      <td>NaN</td>\n      <td>NaN</td>\n      <td>NaN</td>\n      <td>...</td>\n      <td>M</td>\n      <td>BLACK</td>\n      <td>1011373</td>\n      <td>182202</td>\n      <td>40.666746</td>\n      <td>-73.902232</td>\n      <td>POINT (-73.90223237399994 40.66674580000005)</td>\n      <td>3600.0</td>\n      <td>2020-01-18 01:00:00</td>\n      <td>1</td>\n    </tr>\n    <tr>\n      <th>220848244</th>\n      <td>2020-11-21</td>\n      <td>15:35:00</td>\n      <td>BROOKLYN</td>\n      <td>79</td>\n      <td>2.0</td>\n      <td>MULTI DWELL - PUBLIC HOUS</td>\n      <td>False</td>\n      <td>25-44</td>\n      <td>M</td>\n      <td>BLACK</td>\n      <td>...</td>\n      <td>M</td>\n      <td>BLACK</td>\n      <td>999475</td>\n      <td>172871</td>\n      <td>40.641163</td>\n      <td>-73.945142</td>\n      <td>POINT (-73.94514161199999 40.64116269600004)</td>\n      <td>56100.0</td>\n      <td>2020-11-21 15:35:00</td>\n      <td>15</td>\n    </tr>\n  </tbody>\n</table>\n<p>23568 rows × 21 columns</p>\n</div>",
      "text/plain": "             OCCUR_DATE OCCUR_TIME           BORO  PRECINCT  \\\nINCIDENT_KEY                                                  \n201575314    2019-08-23   22:10:00         QUEENS       103   \n205748546    2019-11-27   15:54:00          BRONX        40   \n193118596    2019-02-02   19:40:00      MANHATTAN        23   \n204192600    2019-10-24   00:52:00  STATEN ISLAND       121   \n201483468    2019-08-22   18:03:00          BRONX        46   \n...                 ...        ...            ...       ...   \n216936948    2020-08-21   02:10:00          BRONX        48   \n214926175    2020-07-03   23:49:00         QUEENS       102   \n220870730    2020-11-21   08:05:00       BROOKLYN        60   \n208187330    2020-01-18   01:00:00          BRONX        42   \n220848244    2020-11-21   15:35:00       BROOKLYN        79   \n\n              JURISDICTION_CODE              LOCATION_DESC  \\\nINCIDENT_KEY                                                 \n201575314                   0.0                        NaN   \n205748546                   0.0                        NaN   \n193118596                   0.0                        NaN   \n204192600                   0.0                  PVT HOUSE   \n201483468                   0.0                        NaN   \n...                         ...                        ...   \n216936948                   0.0    MULTI DWELL - APT BUILD   \n214926175                   0.0                HOTEL/MOTEL   \n220870730                   0.0                        NaN   \n208187330                   2.0  MULTI DWELL - PUBLIC HOUS   \n220848244                   2.0  MULTI DWELL - PUBLIC HOUS   \n\n              STATISTICAL_MURDER_FLAG PERP_AGE_GROUP PERP_SEX       PERP_RACE  \\\nINCIDENT_KEY                                                                    \n201575314                       False            NaN      NaN             NaN   \n205748546                       False            <18        M           BLACK   \n193118596                       False          18-24        M  WHITE HISPANIC   \n204192600                        True          25-44        M           BLACK   \n201483468                       False          25-44        M  BLACK HISPANIC   \n...                               ...            ...      ...             ...   \n216936948                        True            NaN      NaN             NaN   \n214926175                       False            <18        M           BLACK   \n220870730                        True            NaN      NaN             NaN   \n208187330                       False            NaN      NaN             NaN   \n220848244                       False          25-44        M           BLACK   \n\n              ... VIC_SEX        VIC_RACE X_COORD_CD Y_COORD_CD   Latitude  \\\nINCIDENT_KEY  ...                                                            \n201575314     ...       M           BLACK    1037451     193561  40.697805   \n205748546     ...       F           BLACK    1006789     237559  40.818700   \n193118596     ...       M  BLACK HISPANIC     999347     227795  40.791916   \n204192600     ...       F           BLACK     938149     171781  40.638064   \n201483468     ...       M           BLACK    1008224     250621  40.854547   \n...           ...     ...             ...        ...        ...        ...   \n216936948     ...       M  BLACK HISPANIC    1007277     187698  40.681843   \n214926175     ...       M           BLACK    1005993     241333  40.829060   \n220870730     ...       M           WHITE    1046405     187113  40.680049   \n208187330     ...       M           BLACK    1011373     182202  40.666746   \n220848244     ...       M           BLACK     999475     172871  40.641163   \n\n              Longitude                                        Lon_Lat  \\\nINCIDENT_KEY                                                             \n201575314    -73.808141  POINT (-73.80814071699996 40.697805308000056)   \n205748546    -73.918571   POINT (-73.91857061799993 40.81869973000005)   \n193118596    -73.945480  POINT (-73.94547965999999 40.791916091000076)   \n204192600    -74.166108   POINT (-74.16610830199996 40.63806398200006)   \n201483468    -73.913339   POINT (-73.91333944399999 40.85454734900003)   \n...                 ...                                            ...   \n216936948    -73.916978  POINT (-73.91697825799997 40.681842679000056)   \n214926175    -73.921434   POINT (-73.92143424399995 40.82906028200006)   \n220870730    -73.775909  POINT (-73.77590919399995 40.680048726000045)   \n208187330    -73.902232   POINT (-73.90223237399994 40.66674580000005)   \n220848244    -73.945142   POINT (-73.94514161199999 40.64116269600004)   \n\n              seconds           timestamp hour  \nINCIDENT_KEY                                    \n201575314     79800.0 2019-08-23 22:10:00   22  \n205748546     57240.0 2019-11-27 15:54:00   15  \n193118596     70800.0 2019-02-02 19:40:00   19  \n204192600      3120.0 2019-10-24 00:52:00    0  \n201483468     64980.0 2019-08-22 18:03:00   18  \n...               ...                 ...  ...  \n216936948      7800.0 2020-08-21 02:10:00    2  \n214926175     85740.0 2020-07-03 23:49:00   23  \n220870730     29100.0 2020-11-21 08:05:00    8  \n208187330      3600.0 2020-01-18 01:00:00    1  \n220848244     56100.0 2020-11-21 15:35:00   15  \n\n[23568 rows x 21 columns]"
     },
     "execution_count": 38,
     "metadata": {},
     "output_type": "execute_result"
    }
   ],
   "source": [
    "df"
   ]
  },
  {
   "cell_type": "code",
   "execution_count": 6,
   "metadata": {},
   "outputs": [
    {
     "data": {
      "text/plain": "OCCUR_DATE                 datetime64[ns]\nOCCUR_TIME                         object\nBORO                               object\nPRECINCT                            int64\nJURISDICTION_CODE                 float64\nLOCATION_DESC                      object\nSTATISTICAL_MURDER_FLAG              bool\nPERP_AGE_GROUP                     object\nPERP_SEX                           object\nPERP_RACE                          object\nVIC_AGE_GROUP                      object\nVIC_SEX                            object\nVIC_RACE                           object\nX_COORD_CD                         object\nY_COORD_CD                         object\nLatitude                          float64\nLongitude                         float64\nLon_Lat                            object\ndtype: object"
     },
     "metadata": {},
     "output_type": "display_data"
    },
    {
     "data": {
      "text/plain": "Index(['OCCUR_DATE', 'OCCUR_TIME', 'BORO', 'PRECINCT', 'JURISDICTION_CODE',\n       'LOCATION_DESC', 'STATISTICAL_MURDER_FLAG', 'PERP_AGE_GROUP',\n       'PERP_SEX', 'PERP_RACE', 'VIC_AGE_GROUP', 'VIC_SEX', 'VIC_RACE',\n       'X_COORD_CD', 'Y_COORD_CD', 'Latitude', 'Longitude', 'Lon_Lat'],\n      dtype='object')"
     },
     "metadata": {},
     "output_type": "display_data"
    }
   ],
   "source": [
    "display(df.dtypes)\n",
    "display(df.columns)\n"
   ]
  },
  {
   "cell_type": "code",
   "execution_count": 7,
   "metadata": {},
   "outputs": [
    {
     "data": {
      "text/plain": "array(['QUEENS', 'BRONX', 'MANHATTAN', 'STATEN ISLAND', 'BROOKLYN'],\n      dtype=object)"
     },
     "execution_count": 7,
     "metadata": {},
     "output_type": "execute_result"
    }
   ],
   "source": [
    "df['BORO'].unique()"
   ]
  },
  {
   "cell_type": "code",
   "execution_count": 8,
   "metadata": {},
   "outputs": [
    {
     "data": {
      "text/plain": "(23568, 18)"
     },
     "execution_count": 8,
     "metadata": {},
     "output_type": "execute_result"
    }
   ],
   "source": [
    "df.shape"
   ]
  },
  {
   "cell_type": "code",
   "execution_count": 9,
   "metadata": {},
   "outputs": [
    {
     "data": {
      "text/plain": "(4488, 18)"
     },
     "execution_count": 9,
     "metadata": {},
     "output_type": "execute_result"
    }
   ],
   "source": [
    "df.loc[df['STATISTICAL_MURDER_FLAG'] == True].shape"
   ]
  },
  {
   "cell_type": "code",
   "execution_count": 10,
   "metadata": {},
   "outputs": [
    {
     "data": {
      "text/plain": "(23568, 18)"
     },
     "execution_count": 10,
     "metadata": {},
     "output_type": "execute_result"
    }
   ],
   "source": [
    "df.shape"
   ]
  },
  {
   "cell_type": "code",
   "execution_count": 11,
   "metadata": {},
   "outputs": [
    {
     "data": {
      "text/plain": "{'BLACK': 16846,\n 'WHITE HISPANIC': 3432,\n 'BLACK HISPANIC': 2244,\n 'WHITE': 615,\n 'ASIAN / PACIFIC ISLANDER': 320,\n 'UNKNOWN': 102,\n 'AMERICAN INDIAN/ALASKAN NATIVE': 9}"
     },
     "execution_count": 11,
     "metadata": {},
     "output_type": "execute_result"
    }
   ],
   "source": [
    "vic_race_count = df['VIC_RACE'].value_counts().to_dict()\n",
    "vic_race_count"
   ]
  },
  {
   "cell_type": "code",
   "execution_count": 12,
   "metadata": {},
   "outputs": [
    {
     "data": {
      "text/plain": "{'BLACK': 9855,\n 'WHITE HISPANIC': 1961,\n 'UNKNOWN': 1869,\n 'BLACK HISPANIC': 1081,\n 'WHITE': 255,\n 'ASIAN / PACIFIC ISLANDER': 120,\n 'AMERICAN INDIAN/ALASKAN NATIVE': 2}"
     },
     "execution_count": 12,
     "metadata": {},
     "output_type": "execute_result"
    }
   ],
   "source": [
    "perp_race_count = df['PERP_RACE'].value_counts().to_dict()\n",
    "perp_race_count"
   ]
  },
  {
   "cell_type": "code",
   "execution_count": 13,
   "metadata": {},
   "outputs": [
    {
     "data": {
      "text/plain": "{'M': 21353, 'F': 2195, 'U': 20}"
     },
     "execution_count": 13,
     "metadata": {},
     "output_type": "execute_result"
    }
   ],
   "source": [
    "vic_sex_count = df['VIC_SEX'].value_counts().to_dict()\n",
    "vic_sex_count"
   ]
  },
  {
   "cell_type": "code",
   "execution_count": 14,
   "metadata": {},
   "outputs": [
    {
     "data": {
      "text/plain": "{'M': 13305, 'U': 1504, 'F': 334}"
     },
     "execution_count": 14,
     "metadata": {},
     "output_type": "execute_result"
    }
   ],
   "source": [
    "perp_sex_count = df['PERP_SEX'].value_counts().to_dict()\n",
    "perp_sex_count"
   ]
  },
  {
   "cell_type": "code",
   "execution_count": 24,
   "metadata": {},
   "outputs": [],
   "source": [
    "color_dict = {'BLACK': 'black',\n",
    " 'WHITE HISPANIC': 'orange',\n",
    " 'UNKNOWN': 'green',\n",
    " 'BLACK HISPANIC': 'grey',\n",
    " 'WHITE': 'white',\n",
    " 'ASIAN / PACIFIC ISLANDER': 'pink',\n",
    " 'AMERICAN INDIAN/ALASKAN NATIVE': 'brown'}"
   ]
  },
  {
   "cell_type": "code",
   "execution_count": 17,
   "metadata": {},
   "outputs": [],
   "source": [
    "m = folium.Map(location=[40.807699, -73.947385])"
   ]
  },
  {
   "cell_type": "code",
   "execution_count": 25,
   "metadata": {},
   "outputs": [
    {
     "data": {
      "text/plain": "INCIDENT_KEY\n204192600    <folium.vector_layers.CircleMarker object at 0...\n193694863    <folium.vector_layers.CircleMarker object at 0...\n201436772    <folium.vector_layers.CircleMarker object at 0...\n201852654    <folium.vector_layers.CircleMarker object at 0...\n193939359    <folium.vector_layers.CircleMarker object at 0...\n                                   ...                        \n221025253    <folium.vector_layers.CircleMarker object at 0...\n210156781    <folium.vector_layers.CircleMarker object at 0...\n215223441    <folium.vector_layers.CircleMarker object at 0...\n214926175    <folium.vector_layers.CircleMarker object at 0...\n220848244    <folium.vector_layers.CircleMarker object at 0...\nLength: 6843, dtype: object"
     },
     "execution_count": 25,
     "metadata": {},
     "output_type": "execute_result"
    }
   ],
   "source": [
    "df.dropna().apply(lambda row:folium.CircleMarker(location=[row['Latitude'], row['Longitude']], color=color_dict[row['PERP_RACE']] ,fill_color=color_dict[row['PERP_RACE']], popup=row['PERP_RACE'], radius=5).add_to(m), axis=1)"
   ]
  },
  {
   "cell_type": "code",
   "execution_count": 196,
   "metadata": {},
   "outputs": [],
   "source": [
    "#m"
   ]
  },
  {
   "cell_type": "code",
   "execution_count": 29,
   "metadata": {},
   "outputs": [
    {
     "data": {
      "text/plain": "INCIDENT_KEY\n204192600    <folium.vector_layers.CircleMarker object at 0...\n193694863    <folium.vector_layers.CircleMarker object at 0...\n201436772    <folium.vector_layers.CircleMarker object at 0...\n201852654    <folium.vector_layers.CircleMarker object at 0...\n193939359    <folium.vector_layers.CircleMarker object at 0...\n                                   ...                        \n221025253    <folium.vector_layers.CircleMarker object at 0...\n210156781    <folium.vector_layers.CircleMarker object at 0...\n215223441    <folium.vector_layers.CircleMarker object at 0...\n214926175    <folium.vector_layers.CircleMarker object at 0...\n220848244    <folium.vector_layers.CircleMarker object at 0...\nLength: 6843, dtype: object"
     },
     "execution_count": 29,
     "metadata": {},
     "output_type": "execute_result"
    }
   ],
   "source": [
    "df.dropna().apply(lambda row:folium.CircleMarker(location=[row['Latitude'], row['Longitude']], color=color_dict[row['PERP_RACE']] ,fill_color=color_dict[row['VIC_RACE']], popup=row['VIC_RACE'], radius=5).add_to(m), axis=1)"
   ]
  },
  {
   "cell_type": "code",
   "execution_count": 195,
   "metadata": {},
   "outputs": [],
   "source": [
    "#m"
   ]
  },
  {
   "cell_type": "code",
   "execution_count": 43,
   "metadata": {},
   "outputs": [],
   "source": []
  },
  {
   "cell_type": "code",
   "execution_count": 122,
   "metadata": {},
   "outputs": [],
   "source": [
    "df['hour'] = df['timestamp'].dt.hour\n",
    "df['dayofweek'] = df['timestamp'].dt.dayofweek\n",
    "df['dayname'] = df['timestamp'].dt.day_name()\n",
    "df['quarter'] = df['timestamp'].dt.quarter\n",
    "df['month'] = df['timestamp'].dt.month\n",
    "df['month_name'] = df['timestamp'].dt.month_name()\n",
    "df['year'] = df['timestamp'].dt.year\n",
    "df['dayofyear'] = df['timestamp'].dt.dayofyear\n",
    "df['dayofmonth'] = df['timestamp'].dt.day"
   ]
  },
  {
   "cell_type": "code",
   "execution_count": 123,
   "metadata": {},
   "outputs": [
    {
     "data": {
      "text/html": "<div>\n<style scoped>\n    .dataframe tbody tr th:only-of-type {\n        vertical-align: middle;\n    }\n\n    .dataframe tbody tr th {\n        vertical-align: top;\n    }\n\n    .dataframe thead th {\n        text-align: right;\n    }\n</style>\n<table border=\"1\" class=\"dataframe\">\n  <thead>\n    <tr style=\"text-align: right;\">\n      <th></th>\n      <th>OCCUR_DATE</th>\n      <th>OCCUR_TIME</th>\n      <th>BORO</th>\n      <th>PRECINCT</th>\n      <th>JURISDICTION_CODE</th>\n      <th>LOCATION_DESC</th>\n      <th>STATISTICAL_MURDER_FLAG</th>\n      <th>PERP_AGE_GROUP</th>\n      <th>PERP_SEX</th>\n      <th>PERP_RACE</th>\n      <th>...</th>\n      <th>hour</th>\n      <th>weekday</th>\n      <th>dayofweek</th>\n      <th>quarter</th>\n      <th>month</th>\n      <th>year</th>\n      <th>dayofyear</th>\n      <th>dayofmonth</th>\n      <th>dayname</th>\n      <th>month_name</th>\n    </tr>\n    <tr>\n      <th>INCIDENT_KEY</th>\n      <th></th>\n      <th></th>\n      <th></th>\n      <th></th>\n      <th></th>\n      <th></th>\n      <th></th>\n      <th></th>\n      <th></th>\n      <th></th>\n      <th></th>\n      <th></th>\n      <th></th>\n      <th></th>\n      <th></th>\n      <th></th>\n      <th></th>\n      <th></th>\n      <th></th>\n      <th></th>\n      <th></th>\n    </tr>\n  </thead>\n  <tbody>\n    <tr>\n      <th>201575314</th>\n      <td>2019-08-23</td>\n      <td>22:10:00</td>\n      <td>QUEENS</td>\n      <td>103</td>\n      <td>0.0</td>\n      <td>NaN</td>\n      <td>False</td>\n      <td>NaN</td>\n      <td>NaN</td>\n      <td>NaN</td>\n      <td>...</td>\n      <td>22</td>\n      <td>4</td>\n      <td>4</td>\n      <td>3</td>\n      <td>8</td>\n      <td>2019</td>\n      <td>235</td>\n      <td>23</td>\n      <td>Friday</td>\n      <td>August</td>\n    </tr>\n  </tbody>\n</table>\n<p>1 rows × 30 columns</p>\n</div>",
      "text/plain": "             OCCUR_DATE OCCUR_TIME    BORO  PRECINCT  JURISDICTION_CODE  \\\nINCIDENT_KEY                                                              \n201575314    2019-08-23   22:10:00  QUEENS       103                0.0   \n\n             LOCATION_DESC  STATISTICAL_MURDER_FLAG PERP_AGE_GROUP PERP_SEX  \\\nINCIDENT_KEY                                                                  \n201575314              NaN                    False            NaN      NaN   \n\n             PERP_RACE  ... hour weekday dayofweek quarter month  year  \\\nINCIDENT_KEY            ...                                              \n201575314          NaN  ...   22       4         4       3     8  2019   \n\n              dayofyear dayofmonth  dayname month_name  \nINCIDENT_KEY                                            \n201575314           235         23   Friday     August  \n\n[1 rows x 30 columns]"
     },
     "execution_count": 123,
     "metadata": {},
     "output_type": "execute_result"
    }
   ],
   "source": [
    "df.head(1)"
   ]
  },
  {
   "cell_type": "code",
   "execution_count": 49,
   "metadata": {},
   "outputs": [],
   "source": [
    "hour_plot = pd.DataFrame(df['hour'].value_counts())"
   ]
  },
  {
   "cell_type": "code",
   "execution_count": 58,
   "metadata": {},
   "outputs": [],
   "source": [
    "weekday_plot = pd.DataFrame(df['dayname'].value_counts())"
   ]
  },
  {
   "cell_type": "code",
   "execution_count": 68,
   "metadata": {},
   "outputs": [
    {
     "data": {
      "text/plain": "<AxesSubplot:ylabel='dayname'>"
     },
     "execution_count": 68,
     "metadata": {},
     "output_type": "execute_result"
    },
    {
     "data": {
      "image/png": "[encoded data removed]",
      "text/plain": "<Figure size 1080x360 with 1 Axes>"
     },
     "metadata": {
      "needs_background": "light"
     },
     "output_type": "display_data"
    }
   ],
   "source": [
    "plt.figure(figsize=(15,5))\n",
    "sns.barplot(x=weekday_plot.index, y=weekday_plot['dayname'])"
   ]
  },
  {
   "cell_type": "code",
   "execution_count": 69,
   "metadata": {},
   "outputs": [
    {
     "data": {
      "text/plain": "<AxesSubplot:ylabel='hour'>"
     },
     "execution_count": 69,
     "metadata": {},
     "output_type": "execute_result"
    },
    {
     "data": {
      "image/png": "[encoded data removed]",
      "text/plain": "<Figure size 432x288 with 1 Axes>"
     },
     "metadata": {
      "needs_background": "light"
     },
     "output_type": "display_data"
    }
   ],
   "source": [
    "sns.barplot(x=hour_plot.index, y=hour_plot['hour'])"
   ]
  },
  {
   "cell_type": "code",
   "execution_count": 80,
   "metadata": {},
   "outputs": [
    {
     "data": {
      "text/plain": "<AxesSubplot:>"
     },
     "execution_count": 80,
     "metadata": {},
     "output_type": "execute_result"
    },
    {
     "data": {
      "image/png": "[encoded data removed]",
      "text/plain": "<Figure size 432x288 with 1 Axes>"
     },
     "metadata": {
      "needs_background": "light"
     },
     "output_type": "display_data"
    }
   ],
   "source": [
    "year_plot = pd.DataFrame(df['year'].value_counts())\n",
    "year_plot.sort_index().plot(kind='bar', rot=45)"
   ]
  },
  {
   "cell_type": "code",
   "execution_count": 90,
   "metadata": {},
   "outputs": [],
   "source": [
    "day_count = pd.DataFrame(df['dayofyear'].value_counts())"
   ]
  },
  {
   "cell_type": "code",
   "execution_count": 101,
   "metadata": {},
   "outputs": [
    {
     "data": {
      "text/html": "<div>\n<style scoped>\n    .dataframe tbody tr th:only-of-type {\n        vertical-align: middle;\n    }\n\n    .dataframe tbody tr th {\n        vertical-align: top;\n    }\n\n    .dataframe thead th {\n        text-align: right;\n    }\n</style>\n<table border=\"1\" class=\"dataframe\">\n  <thead>\n    <tr style=\"text-align: right;\">\n      <th></th>\n      <th>dayofyear</th>\n    </tr>\n  </thead>\n  <tbody>\n    <tr>\n      <th>186</th>\n      <td>160</td>\n    </tr>\n    <tr>\n      <th>1</th>\n      <td>135</td>\n    </tr>\n    <tr>\n      <th>187</th>\n      <td>134</td>\n    </tr>\n    <tr>\n      <th>243</th>\n      <td>124</td>\n    </tr>\n    <tr>\n      <th>181</th>\n      <td>121</td>\n    </tr>\n    <tr>\n      <th>...</th>\n      <td>...</td>\n    </tr>\n    <tr>\n      <th>38</th>\n      <td>25</td>\n    </tr>\n    <tr>\n      <th>46</th>\n      <td>24</td>\n    </tr>\n    <tr>\n      <th>61</th>\n      <td>23</td>\n    </tr>\n    <tr>\n      <th>54</th>\n      <td>21</td>\n    </tr>\n    <tr>\n      <th>366</th>\n      <td>19</td>\n    </tr>\n  </tbody>\n</table>\n<p>366 rows × 1 columns</p>\n</div>",
      "text/plain": "     dayofyear\n186        160\n1          135\n187        134\n243        124\n181        121\n..         ...\n38          25\n46          24\n61          23\n54          21\n366         19\n\n[366 rows x 1 columns]"
     },
     "execution_count": 101,
     "metadata": {},
     "output_type": "execute_result"
    }
   ],
   "source": [
    "popular_days = day_count.sort_values('dayofyear', ascending=False)\n",
    "popular_days"
   ]
  },
  {
   "cell_type": "code",
   "execution_count": 105,
   "metadata": {},
   "outputs": [],
   "source": [
    "day_count = df.groupby(['month', 'dayofmonth']).size().reset_index().rename(columns={0:'count'})"
   ]
  },
  {
   "cell_type": "code",
   "execution_count": 118,
   "metadata": {},
   "outputs": [
    {
     "data": {
      "text/html": "<div>\n<style scoped>\n    .dataframe tbody tr th:only-of-type {\n        vertical-align: middle;\n    }\n\n    .dataframe tbody tr th {\n        vertical-align: top;\n    }\n\n    .dataframe thead th {\n        text-align: right;\n    }\n</style>\n<table border=\"1\" class=\"dataframe\">\n  <thead>\n    <tr style=\"text-align: right;\">\n      <th></th>\n      <th>month</th>\n      <th>dayofmonth</th>\n      <th>count</th>\n      <th>date</th>\n    </tr>\n  </thead>\n  <tbody>\n    <tr>\n      <th>186</th>\n      <td>7</td>\n      <td>5</td>\n      <td>187</td>\n      <td>5:7</td>\n    </tr>\n    <tr>\n      <th>0</th>\n      <td>1</td>\n      <td>1</td>\n      <td>135</td>\n      <td>1:1</td>\n    </tr>\n    <tr>\n      <th>235</th>\n      <td>8</td>\n      <td>23</td>\n      <td>123</td>\n      <td>23:8</td>\n    </tr>\n    <tr>\n      <th>185</th>\n      <td>7</td>\n      <td>4</td>\n      <td>121</td>\n      <td>4:7</td>\n    </tr>\n    <tr>\n      <th>181</th>\n      <td>6</td>\n      <td>30</td>\n      <td>118</td>\n      <td>30:6</td>\n    </tr>\n    <tr>\n      <th>146</th>\n      <td>5</td>\n      <td>26</td>\n      <td>117</td>\n      <td>26:5</td>\n    </tr>\n    <tr>\n      <th>179</th>\n      <td>6</td>\n      <td>28</td>\n      <td>112</td>\n      <td>28:6</td>\n    </tr>\n    <tr>\n      <th>247</th>\n      <td>9</td>\n      <td>4</td>\n      <td>110</td>\n      <td>4:9</td>\n    </tr>\n    <tr>\n      <th>242</th>\n      <td>8</td>\n      <td>30</td>\n      <td>110</td>\n      <td>30:8</td>\n    </tr>\n    <tr>\n      <th>243</th>\n      <td>8</td>\n      <td>31</td>\n      <td>109</td>\n      <td>31:8</td>\n    </tr>\n    <tr>\n      <th>192</th>\n      <td>7</td>\n      <td>11</td>\n      <td>105</td>\n      <td>11:7</td>\n    </tr>\n    <tr>\n      <th>228</th>\n      <td>8</td>\n      <td>16</td>\n      <td>104</td>\n      <td>16:8</td>\n    </tr>\n    <tr>\n      <th>219</th>\n      <td>8</td>\n      <td>7</td>\n      <td>104</td>\n      <td>7:8</td>\n    </tr>\n    <tr>\n      <th>160</th>\n      <td>6</td>\n      <td>9</td>\n      <td>103</td>\n      <td>9:6</td>\n    </tr>\n    <tr>\n      <th>198</th>\n      <td>7</td>\n      <td>17</td>\n      <td>102</td>\n      <td>17:7</td>\n    </tr>\n    <tr>\n      <th>180</th>\n      <td>6</td>\n      <td>29</td>\n      <td>102</td>\n      <td>29:6</td>\n    </tr>\n    <tr>\n      <th>209</th>\n      <td>7</td>\n      <td>28</td>\n      <td>102</td>\n      <td>28:7</td>\n    </tr>\n    <tr>\n      <th>207</th>\n      <td>7</td>\n      <td>26</td>\n      <td>102</td>\n      <td>26:7</td>\n    </tr>\n    <tr>\n      <th>183</th>\n      <td>7</td>\n      <td>2</td>\n      <td>102</td>\n      <td>2:7</td>\n    </tr>\n    <tr>\n      <th>233</th>\n      <td>8</td>\n      <td>21</td>\n      <td>101</td>\n      <td>21:8</td>\n    </tr>\n    <tr>\n      <th>223</th>\n      <td>8</td>\n      <td>11</td>\n      <td>101</td>\n      <td>11:8</td>\n    </tr>\n    <tr>\n      <th>171</th>\n      <td>6</td>\n      <td>20</td>\n      <td>101</td>\n      <td>20:6</td>\n    </tr>\n    <tr>\n      <th>248</th>\n      <td>9</td>\n      <td>5</td>\n      <td>101</td>\n      <td>5:9</td>\n    </tr>\n    <tr>\n      <th>214</th>\n      <td>8</td>\n      <td>2</td>\n      <td>101</td>\n      <td>2:8</td>\n    </tr>\n    <tr>\n      <th>147</th>\n      <td>5</td>\n      <td>27</td>\n      <td>101</td>\n      <td>27:5</td>\n    </tr>\n    <tr>\n      <th>203</th>\n      <td>7</td>\n      <td>22</td>\n      <td>99</td>\n      <td>22:7</td>\n    </tr>\n    <tr>\n      <th>194</th>\n      <td>7</td>\n      <td>13</td>\n      <td>99</td>\n      <td>13:7</td>\n    </tr>\n    <tr>\n      <th>149</th>\n      <td>5</td>\n      <td>29</td>\n      <td>98</td>\n      <td>29:5</td>\n    </tr>\n    <tr>\n      <th>175</th>\n      <td>6</td>\n      <td>24</td>\n      <td>98</td>\n      <td>24:6</td>\n    </tr>\n    <tr>\n      <th>172</th>\n      <td>6</td>\n      <td>21</td>\n      <td>97</td>\n      <td>21:6</td>\n    </tr>\n  </tbody>\n</table>\n</div>",
      "text/plain": "     month  dayofmonth  count  date\n186      7           5    187   5:7\n0        1           1    135   1:1\n235      8          23    123  23:8\n185      7           4    121   4:7\n181      6          30    118  30:6\n146      5          26    117  26:5\n179      6          28    112  28:6\n247      9           4    110   4:9\n242      8          30    110  30:8\n243      8          31    109  31:8\n192      7          11    105  11:7\n228      8          16    104  16:8\n219      8           7    104   7:8\n160      6           9    103   9:6\n198      7          17    102  17:7\n180      6          29    102  29:6\n209      7          28    102  28:7\n207      7          26    102  26:7\n183      7           2    102   2:7\n233      8          21    101  21:8\n223      8          11    101  11:8\n171      6          20    101  20:6\n248      9           5    101   5:9\n214      8           2    101   2:8\n147      5          27    101  27:5\n203      7          22     99  22:7\n194      7          13     99  13:7\n149      5          29     98  29:5\n175      6          24     98  24:6\n172      6          21     97  21:6"
     },
     "execution_count": 118,
     "metadata": {},
     "output_type": "execute_result"
    }
   ],
   "source": [
    "day_count.sort_values('count', ascending=False).head(30)"
   ]
  },
  {
   "cell_type": "code",
   "execution_count": 113,
   "metadata": {},
   "outputs": [
    {
     "data": {
      "text/html": "<div>\n<style scoped>\n    .dataframe tbody tr th:only-of-type {\n        vertical-align: middle;\n    }\n\n    .dataframe tbody tr th {\n        vertical-align: top;\n    }\n\n    .dataframe thead th {\n        text-align: right;\n    }\n</style>\n<table border=\"1\" class=\"dataframe\">\n  <thead>\n    <tr style=\"text-align: right;\">\n      <th></th>\n      <th>month</th>\n      <th>dayofmonth</th>\n      <th>count</th>\n      <th>date</th>\n    </tr>\n  </thead>\n  <tbody>\n    <tr>\n      <th>0</th>\n      <td>1</td>\n      <td>1</td>\n      <td>135</td>\n      <td>1:1</td>\n    </tr>\n    <tr>\n      <th>1</th>\n      <td>1</td>\n      <td>2</td>\n      <td>53</td>\n      <td>2:1</td>\n    </tr>\n    <tr>\n      <th>2</th>\n      <td>1</td>\n      <td>3</td>\n      <td>56</td>\n      <td>3:1</td>\n    </tr>\n    <tr>\n      <th>3</th>\n      <td>1</td>\n      <td>4</td>\n      <td>31</td>\n      <td>4:1</td>\n    </tr>\n    <tr>\n      <th>4</th>\n      <td>1</td>\n      <td>5</td>\n      <td>57</td>\n      <td>5:1</td>\n    </tr>\n    <tr>\n      <th>...</th>\n      <td>...</td>\n      <td>...</td>\n      <td>...</td>\n      <td>...</td>\n    </tr>\n    <tr>\n      <th>361</th>\n      <td>12</td>\n      <td>27</td>\n      <td>53</td>\n      <td>27:12</td>\n    </tr>\n    <tr>\n      <th>362</th>\n      <td>12</td>\n      <td>28</td>\n      <td>62</td>\n      <td>28:12</td>\n    </tr>\n    <tr>\n      <th>363</th>\n      <td>12</td>\n      <td>29</td>\n      <td>53</td>\n      <td>29:12</td>\n    </tr>\n    <tr>\n      <th>364</th>\n      <td>12</td>\n      <td>30</td>\n      <td>56</td>\n      <td>30:12</td>\n    </tr>\n    <tr>\n      <th>365</th>\n      <td>12</td>\n      <td>31</td>\n      <td>83</td>\n      <td>31:12</td>\n    </tr>\n  </tbody>\n</table>\n<p>366 rows × 4 columns</p>\n</div>",
      "text/plain": "     month  dayofmonth  count   date\n0        1           1    135    1:1\n1        1           2     53    2:1\n2        1           3     56    3:1\n3        1           4     31    4:1\n4        1           5     57    5:1\n..     ...         ...    ...    ...\n361     12          27     53  27:12\n362     12          28     62  28:12\n363     12          29     53  29:12\n364     12          30     56  30:12\n365     12          31     83  31:12\n\n[366 rows x 4 columns]"
     },
     "execution_count": 113,
     "metadata": {},
     "output_type": "execute_result"
    }
   ],
   "source": [
    "day_count['date'] = (day_count['dayofmonth'].astype(str) + ':' + day_count['month'].astype(str))\n",
    "day_count"
   ]
  },
  {
   "cell_type": "code",
   "execution_count": 116,
   "metadata": {},
   "outputs": [
    {
     "data": {
      "text/plain": "<AxesSubplot:xlabel='date'>"
     },
     "execution_count": 116,
     "metadata": {},
     "output_type": "execute_result"
    },
    {
     "data": {
      "image/png": "[encoded data removed]",
      "text/plain": "<Figure size 1080x360 with 1 Axes>"
     },
     "metadata": {
      "needs_background": "light"
     },
     "output_type": "display_data"
    }
   ],
   "source": [
    "day_count.sort_values('count', ascending=False)[:10].plot(x='date', y='count', kind='bar', rot=45, figsize=(15,5))"
   ]
  },
  {
   "cell_type": "code",
   "execution_count": 129,
   "metadata": {},
   "outputs": [
    {
     "data": {
      "text/plain": "<AxesSubplot:>"
     },
     "execution_count": 129,
     "metadata": {},
     "output_type": "execute_result"
    },
    {
     "data": {
      "image/png": "[encoded data removed]",
      "text/plain": "<Figure size 1080x360 with 1 Axes>"
     },
     "metadata": {
      "needs_background": "light"
     },
     "output_type": "display_data"
    }
   ],
   "source": [
    "month_plot = pd.DataFrame(df['month_name'].value_counts())\n",
    "month_order = ['January', 'February', 'March', 'April', 'May', 'June', 'July', 'August', 'September', 'October', 'November', 'December']\n",
    "month_plot.loc[month_order].plot(kind='bar', rot=45, figsize=(15,5))"
   ]
  },
  {
   "cell_type": "code",
   "execution_count": 190,
   "metadata": {},
   "outputs": [],
   "source": [
    "m = folium.Map(location=[40.807699, -73.947385], zoom_start=10, tiles='stamentoner')"
   ]
  },
  {
   "cell_type": "code",
   "execution_count": 191,
   "metadata": {},
   "outputs": [],
   "source": [
    "data_hour = defaultdict(list)\n",
    "\n",
    "for r in df.itertuples():\n",
    "    data_hour[r.hour].append([r.Latitude, r.Longitude])\n",
    "\n",
    "data_hour = OrderedDict(sorted(data_hour.items(), key=lambda t: t[0]))"
   ]
  },
  {
   "cell_type": "code",
   "execution_count": 192,
   "metadata": {},
   "outputs": [
    {
     "data": {
      "text/plain": "<folium.plugins.heat_map_withtime.HeatMapWithTime at 0x7f9e24714eb0>"
     },
     "execution_count": 192,
     "metadata": {},
     "output_type": "execute_result"
    }
   ],
   "source": [
    "hm = HeatMapWithTime(data=list(data_hour.values()),\n",
    "                     index=list(data_hour.keys()), \n",
    "                     radius=10,\n",
    "                     auto_play=True,\n",
    "                     max_opacity=0.3)\n",
    "\n",
    "hm.add_to(m)"
   ]
  },
  {
   "cell_type": "code",
   "execution_count": 194,
   "metadata": {},
   "outputs": [],
   "source": [
    "#m"
   ]
  },
  {
   "cell_type": "code",
   "execution_count": null,
   "metadata": {},
   "outputs": [],
   "source": []
  }
 ],
 "metadata": {
  "kernelspec": {
   "display_name": "Python 3.9.7 64-bit ('ads': conda)",
   "name": "python397jvsc74a57bd0b22a3bcdbe573799f39f8cedf7d08dbf0c5fe79ee046903c238874aac1f0a5d3"
  },
  "language_info": {
   "codemirror_mode": {
    "name": "ipython",
    "version": 3
   },
   "file_extension": ".py",
   "mimetype": "text/x-python",
   "name": "python",
   "nbconvert_exporter": "python",
   "pygments_lexer": "ipython3",
   "version": "3.9.7"
  },
  "metadata": {
   "interpreter": {
    "hash": "b22a3bcdbe573799f39f8cedf7d08dbf0c5fe79ee046903c238874aac1f0a5d3"
   }
  },
  "orig_nbformat": 3
 },
 "nbformat": 4,
 "nbformat_minor": 2
}